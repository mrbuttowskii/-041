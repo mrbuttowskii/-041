{
 "cells": [
  {
   "cell_type": "markdown",
   "id": "c578918a",
   "metadata": {},
   "source": [
    "Команды python"
   ]
  },
  {
   "cell_type": "markdown",
   "id": "1e65b5f6",
   "metadata": {},
   "source": [
    "a=[2,3,4,5,7]\n",
    "print(a)\n",
    "a.append(999)\n",
    "a.sort()\n",
    "print(a)\n",
    "a.reverse(a)\n",
    "print(a)\n"
   ]
  },
  {
   "cell_type": "markdown",
   "id": "66795928",
   "metadata": {},
   "source": [
    "if..:\n",
    "while...:"
   ]
  },
  {
   "cell_type": "markdown",
   "id": "432c3ea7",
   "metadata": {},
   "source": [
    "a=int(input())\n",
    "b=int(input())\n",
    "x=sum(a,b)\n",
    "print(x)\n"
   ]
  }
 ],
 "metadata": {
  "kernelspec": {
   "display_name": "Python 3 (ipykernel)",
   "language": "python",
   "name": "python3"
  },
  "language_info": {
   "codemirror_mode": {
    "name": "ipython",
    "version": 3
   },
   "file_extension": ".py",
   "mimetype": "text/x-python",
   "name": "python",
   "nbconvert_exporter": "python",
   "pygments_lexer": "ipython3",
   "version": "3.9.13"
  }
 },
 "nbformat": 4,
 "nbformat_minor": 5
}
